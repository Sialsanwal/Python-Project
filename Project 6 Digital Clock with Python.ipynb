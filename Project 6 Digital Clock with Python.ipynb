{
 "cells": [
  {
   "cell_type": "code",
   "execution_count": 10,
   "id": "abb0885b",
   "metadata": {},
   "outputs": [],
   "source": [
    "from tkinter import Label, Tk \n",
    "import time"
   ]
  },
  {
   "cell_type": "code",
   "execution_count": null,
   "id": "7903b41f",
   "metadata": {},
   "outputs": [],
   "source": [
    "app_window=Tk()\n",
    "app_window.title(\"Digital Clock\")\n",
    "app_window.geometry(\"920x150\")\n",
    "app_window.resizable(1,1)\n",
    "\n",
    "\n",
    "text_font=(\"italic\",68,'bold')\n",
    "background = \"#f2e750\"\n",
    "foreground= \"#363529\"\n",
    "border_width = 25\n",
    "\n",
    "label=Label(app_window,font=text_font,bg=background,bd=border_width)\n",
    "label.grid(row=0,column=1)\n",
    "\n",
    "def digital_clock():\n",
    "    time_live=time.strftime(\"%H:%M:%S\")\n",
    "    label.config(text=time_live)\n",
    "    label.after(200,digital_clock)\n",
    "    \n",
    "digital_clock()\n",
    "app_window.mainloop()"
   ]
  },
  {
   "cell_type": "code",
   "execution_count": null,
   "id": "505a330a",
   "metadata": {},
   "outputs": [],
   "source": []
  },
  {
   "cell_type": "code",
   "execution_count": null,
   "id": "9a5914a7",
   "metadata": {},
   "outputs": [],
   "source": []
  }
 ],
 "metadata": {
  "kernelspec": {
   "display_name": "Python 3 (ipykernel)",
   "language": "python",
   "name": "python3"
  },
  "language_info": {
   "codemirror_mode": {
    "name": "ipython",
    "version": 3
   },
   "file_extension": ".py",
   "mimetype": "text/x-python",
   "name": "python",
   "nbconvert_exporter": "python",
   "pygments_lexer": "ipython3",
   "version": "3.9.12"
  }
 },
 "nbformat": 4,
 "nbformat_minor": 5
}
