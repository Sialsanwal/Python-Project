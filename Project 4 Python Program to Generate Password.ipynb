{
 "cells": [
  {
   "cell_type": "code",
   "execution_count": 1,
   "id": "a737d942",
   "metadata": {},
   "outputs": [],
   "source": [
    "import random"
   ]
  },
  {
   "cell_type": "code",
   "execution_count": 9,
   "id": "7aa37f5a",
   "metadata": {},
   "outputs": [
    {
     "name": "stdout",
     "output_type": "stream",
     "text": [
      "Enter the password of length:4\n",
      "E_hv\n"
     ]
    }
   ],
   "source": [
    "try:\n",
    "    passlen=int(input(\"Enter the password of length:\"))\n",
    "    s=\"abcdefghiklmnopqrstvwxyz1230456789!@#$%^&*()_+ABCDEFGHIJKLMNOPQRSTUVWXYZ\"\n",
    "    p=\"\".join(random.sample(s,passlen))\n",
    "    print(p)\n",
    "except ValueError:\n",
    "    print(\"Enter the number only\")"
   ]
  },
  {
   "cell_type": "code",
   "execution_count": null,
   "id": "181c9c8f",
   "metadata": {},
   "outputs": [],
   "source": []
  }
 ],
 "metadata": {
  "kernelspec": {
   "display_name": "Python 3 (ipykernel)",
   "language": "python",
   "name": "python3"
  },
  "language_info": {
   "codemirror_mode": {
    "name": "ipython",
    "version": 3
   },
   "file_extension": ".py",
   "mimetype": "text/x-python",
   "name": "python",
   "nbconvert_exporter": "python",
   "pygments_lexer": "ipython3",
   "version": "3.9.12"
  }
 },
 "nbformat": 4,
 "nbformat_minor": 5
}
