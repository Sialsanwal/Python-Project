{
 "cells": [
  {
   "cell_type": "code",
   "execution_count": 2,
   "id": "7c959e73",
   "metadata": {},
   "outputs": [
    {
     "name": "stdout",
     "output_type": "stream",
     "text": [
      "Enter your email:sialsanwal885@gmail.com\n",
      "your name is sialsanwal885 and your domain name is gmail.com\n"
     ]
    }
   ],
   "source": [
    "email=input(\"Enter your email:\").strip()\n",
    "user_name=email[:email.index(\"@\")]\n",
    "domain_name=email[email.index(\"@\")+1:]\n",
    "output=\"your name is {} and your domain name is {}\".format(user_name,domain_name)\n",
    "print(output)"
   ]
  },
  {
   "cell_type": "raw",
   "id": "9f744d5b",
   "metadata": {},
   "source": []
  },
  {
   "cell_type": "code",
   "execution_count": null,
   "id": "6c2fb746",
   "metadata": {},
   "outputs": [],
   "source": [
    "user_name=email[:email.index(\"@\")]\n"
   ]
  }
 ],
 "metadata": {
  "kernelspec": {
   "display_name": "Python 3 (ipykernel)",
   "language": "python",
   "name": "python3"
  },
  "language_info": {
   "codemirror_mode": {
    "name": "ipython",
    "version": 3
   },
   "file_extension": ".py",
   "mimetype": "text/x-python",
   "name": "python",
   "nbconvert_exporter": "python",
   "pygments_lexer": "ipython3",
   "version": "3.9.12"
  }
 },
 "nbformat": 4,
 "nbformat_minor": 5
}
