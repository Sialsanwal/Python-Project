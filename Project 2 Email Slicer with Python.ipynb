{
 "cells": [
  {
   "cell_type": "code",
   "execution_count": 2,
   "id": "c84f23cd",
   "metadata": {},
   "outputs": [
    {
     "name": "stdout",
     "output_type": "stream",
     "text": [
      "Enter your email:sialsanwal885@gmail.com\n",
      "your name is sialsanwal885 and your domain name is gmail.com\n"
     ]
    }
   ],
   "source": [
    "email=input(\"Enter your email:\").strip()\n",
    "user_name=email[:email.index(\"@\")]\n",
    "domain_name=email[email.index(\"@\")+1:]\n",
    "output=\"your name is {} and your domain name is {}\".format(user_name,domain_name)\n",
    "print(output)"
   ]
  },
  {
   "cell_type": "raw",
   "id": "5dc7a799",
   "metadata": {},
   "source": []
  },
  {
   "cell_type": "code",
   "execution_count": null,
   "id": "9dce5255",
   "metadata": {},
   "outputs": [],
   "source": []
  },
  {
   "cell_type": "code",
   "execution_count": null,
   "id": "c70f4ef8",
   "metadata": {},
   "outputs": [],
   "source": []
  }
 ],
 "metadata": {
  "kernelspec": {
   "display_name": "Python 3 (ipykernel)",
   "language": "python",
   "name": "python3"
  },
  "language_info": {
   "codemirror_mode": {
    "name": "ipython",
    "version": 3
   },
   "file_extension": ".py",
   "mimetype": "text/x-python",
   "name": "python",
   "nbconvert_exporter": "python",
   "pygments_lexer": "ipython3",
   "version": "3.9.12"
  }
 },
 "nbformat": 4,
 "nbformat_minor": 5
}
