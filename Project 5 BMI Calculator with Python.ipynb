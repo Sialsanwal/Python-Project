{
 "cells": [
  {
   "cell_type": "code",
   "execution_count": 4,
   "id": "4c346589",
   "metadata": {},
   "outputs": [
    {
     "name": "stdout",
     "output_type": "stream",
     "text": [
      "Enter your height in centimeter: 179\n",
      "Enter your weight in Kg: 70\n",
      "Your body mass index is: 21.847008520333322\n",
      "You are healthy\n"
     ]
    }
   ],
   "source": [
    "Height=float(input(\"Enter your height in centimeter: \"))\n",
    "Weight=float(input(\"Enter your weight in Kg: \"))\n",
    "Height=Height/100\n",
    "BMI=Weight/(Height*Height)\n",
    "print(\"Your body mass index is:\",BMI)\n",
    "if(BMI>0):\n",
    "    if(BMI<=16):\n",
    "        print(\"Your are severely underweight\")\n",
    "    elif(BMI<=18.5):\n",
    "        print(\"You are under-weight\")\n",
    "    elif(BMI<=25):\n",
    "        print(\"You are healthy\")\n",
    "    elif(BMI<=30):\n",
    "        print(\"You are overweight\")\n",
    "    else:\n",
    "        print(\"You are severely over-weight\")\n",
    "else:\n",
    "    print(\"Enter valid detailed\")\n"
   ]
  },
  {
   "cell_type": "code",
   "execution_count": null,
   "id": "358ecbe0",
   "metadata": {},
   "outputs": [],
   "source": []
  }
 ],
 "metadata": {
  "kernelspec": {
   "display_name": "Python 3 (ipykernel)",
   "language": "python",
   "name": "python3"
  },
  "language_info": {
   "codemirror_mode": {
    "name": "ipython",
    "version": 3
   },
   "file_extension": ".py",
   "mimetype": "text/x-python",
   "name": "python",
   "nbconvert_exporter": "python",
   "pygments_lexer": "ipython3",
   "version": "3.9.12"
  }
 },
 "nbformat": 4,
 "nbformat_minor": 5
}
